{
 "cells": [
  {
   "cell_type": "code",
   "execution_count": 15,
   "id": "906cb204",
   "metadata": {},
   "outputs": [],
   "source": [
    "#install required libraries\n",
    "import pandas as pd\n",
    "import numpy as np\n",
    "#data visualization packages\n",
    "import matplotlib.pyplot as plt\n",
    "#keras packages\n",
    "import keras\n",
    "from keras.models import Sequential\n",
    "from keras.layers import Convolution2D\n",
    "from keras.layers import MaxPooling2D\n",
    "from keras.layers import Flatten\n",
    "from keras.layers import Dense\n",
    "from keras.wrappers.scikit_learn import KerasClassifier\n",
    "from keras.layers import Dropout\n",
    "#model evaluation packages\n",
    "from sklearn.metrics import f1_score, roc_auc_score, log_loss\n",
    "from sklearn.model_selection import cross_val_score, cross_validate\n",
    "from sklearn.metrics import accuracy_score"
   ]
  },
  {
   "cell_type": "code",
   "execution_count": 6,
   "id": "11ced315",
   "metadata": {},
   "outputs": [],
   "source": [
    "import tensorflow.keras as tk\n",
    "mnist = tk.datasets.mnist\n",
    "(X_train, y_train), (X_test, y_test) = mnist.load_data()"
   ]
  },
  {
   "cell_type": "code",
   "execution_count": 7,
   "id": "4967b301",
   "metadata": {},
   "outputs": [
    {
     "name": "stdout",
     "output_type": "stream",
     "text": [
      "Number of unique classes:  10\n",
      "Classes:  [0 1 2 3 4 5 6 7 8 9]\n"
     ]
    }
   ],
   "source": [
    "#reshape data from 3-D to 2-D array\n",
    "X_train = X_train.reshape(60000, 784)\n",
    "X_test = X_test.reshape(10000, 784)\n",
    "#feature scaling\n",
    "from sklearn.preprocessing import MinMaxScaler\n",
    "minmax = MinMaxScaler()\n",
    "#fit and transform training dataset\n",
    "X_train = minmax.fit_transform(X_train)\n",
    "#transform testing dataset\n",
    "X_test = minmax.transform(X_test)\n",
    "print('Number of unique classes: ', len(np.unique(y_train)))\n",
    "print('Classes: ', np.unique(y_train))"
   ]
  },
  {
   "cell_type": "code",
   "execution_count": 8,
   "id": "0bd1605a",
   "metadata": {
    "scrolled": true
   },
   "outputs": [
    {
     "name": "stdout",
     "output_type": "stream",
     "text": [
      "Model: \"sequential\"\n",
      "_________________________________________________________________\n",
      " Layer (type)                Output Shape              Param #   \n",
      "=================================================================\n",
      " dense (Dense)               (None, 256)               200960    \n",
      "                                                                 \n",
      " dense_1 (Dense)             (None, 10)                2570      \n",
      "                                                                 \n",
      "=================================================================\n",
      "Total params: 203,530\n",
      "Trainable params: 203,530\n",
      "Non-trainable params: 0\n",
      "_________________________________________________________________\n"
     ]
    }
   ],
   "source": [
    "\n",
    "classifier_e25 = Sequential()\n",
    "\n",
    "classifier_e25.add(Dense(input_dim = X_train.shape[1], units = 256, kernel_initializer='uniform', activation='relu'))\n",
    "\n",
    "classifier_e25.add(Dense(units = 10, kernel_initializer='uniform', activation='softmax'))\n",
    "\n",
    "classifier_e25.compile(optimizer='adam', loss='sparse_categorical_crossentropy', metrics=['accuracy'])\n",
    "\n",
    "classifier_e25.summary()"
   ]
  },
  {
   "cell_type": "code",
   "execution_count": 9,
   "id": "1c955724",
   "metadata": {},
   "outputs": [],
   "source": [
    "#fit training dataset into the model\n",
    "classifier_e25_fit = classifier_e25.fit(X_train, y_train, epochs=25, verbose=0)"
   ]
  },
  {
   "cell_type": "code",
   "execution_count": 11,
   "id": "c3631cf3",
   "metadata": {},
   "outputs": [],
   "source": [
    "#evaluate the model for testing dataset\n",
    "test_loss_e25 = classifier_e25.evaluate(X_test, y_test, verbose=0)"
   ]
  },
  {
   "cell_type": "code",
   "execution_count": 12,
   "id": "065cd0ca",
   "metadata": {},
   "outputs": [
    {
     "data": {
      "text/plain": [
       "[0.1258549690246582, 0.979200005531311]"
      ]
     },
     "execution_count": 12,
     "metadata": {},
     "output_type": "execute_result"
    }
   ],
   "source": [
    "test_loss_e25"
   ]
  },
  {
   "cell_type": "code",
   "execution_count": 14,
   "id": "d2fc1912",
   "metadata": {},
   "outputs": [],
   "source": [
    " y_pred = classifier_e25.predict(X_test)"
   ]
  },
  {
   "cell_type": "code",
   "execution_count": 17,
   "id": "fe4d3b62",
   "metadata": {},
   "outputs": [
    {
     "data": {
      "text/plain": [
       "array([[5.8801318e-16, 2.7756191e-23, 3.0341705e-18, ..., 1.0000000e+00,\n",
       "        5.1247448e-19, 2.3408050e-10],\n",
       "       [3.1200584e-15, 1.0893270e-22, 1.0000000e+00, ..., 1.0895124e-25,\n",
       "        8.2530992e-21, 7.2293443e-32],\n",
       "       [1.1808522e-15, 9.9999952e-01, 2.8472538e-09, ..., 2.8867031e-08,\n",
       "        5.2547773e-07, 7.7853900e-16],\n",
       "       ...,\n",
       "       [8.9985563e-36, 1.6803729e-31, 1.0370298e-32, ..., 3.1922194e-16,\n",
       "        1.2551633e-20, 8.3573177e-13],\n",
       "       [1.1643982e-19, 2.8218605e-28, 7.9820920e-25, ..., 1.9184640e-20,\n",
       "        4.9231137e-14, 1.1826521e-29],\n",
       "       [1.2659547e-26, 9.3981664e-34, 8.9568598e-25, ..., 3.3696130e-30,\n",
       "        1.5294865e-27, 3.8857334e-29]], dtype=float32)"
      ]
     },
     "execution_count": 17,
     "metadata": {},
     "output_type": "execute_result"
    }
   ],
   "source": [
    "y_pred"
   ]
  },
  {
   "cell_type": "code",
   "execution_count": 18,
   "id": "68e320fb",
   "metadata": {},
   "outputs": [
    {
     "data": {
      "text/plain": [
       "array([7, 2, 1, ..., 4, 5, 6], dtype=uint8)"
      ]
     },
     "execution_count": 18,
     "metadata": {},
     "output_type": "execute_result"
    }
   ],
   "source": [
    "y_test"
   ]
  },
  {
   "cell_type": "code",
   "execution_count": 22,
   "id": "f0bee036",
   "metadata": {},
   "outputs": [],
   "source": [
    "predict_x = classifier_e25.predict(X_test)\n"
   ]
  },
  {
   "cell_type": "code",
   "execution_count": 23,
   "id": "d46a440c",
   "metadata": {},
   "outputs": [
    {
     "data": {
      "text/plain": [
       "array([[5.8801318e-16, 2.7756191e-23, 3.0341705e-18, ..., 1.0000000e+00,\n",
       "        5.1247448e-19, 2.3408050e-10],\n",
       "       [3.1200584e-15, 1.0893270e-22, 1.0000000e+00, ..., 1.0895124e-25,\n",
       "        8.2530992e-21, 7.2293443e-32],\n",
       "       [1.1808522e-15, 9.9999952e-01, 2.8472538e-09, ..., 2.8867031e-08,\n",
       "        5.2547773e-07, 7.7853900e-16],\n",
       "       ...,\n",
       "       [8.9985563e-36, 1.6803729e-31, 1.0370298e-32, ..., 3.1922194e-16,\n",
       "        1.2551633e-20, 8.3573177e-13],\n",
       "       [1.1643982e-19, 2.8218605e-28, 7.9820920e-25, ..., 1.9184640e-20,\n",
       "        4.9231137e-14, 1.1826521e-29],\n",
       "       [1.2659547e-26, 9.3981664e-34, 8.9568598e-25, ..., 3.3696130e-30,\n",
       "        1.5294865e-27, 3.8857334e-29]], dtype=float32)"
      ]
     },
     "execution_count": 23,
     "metadata": {},
     "output_type": "execute_result"
    }
   ],
   "source": [
    "predict_x"
   ]
  },
  {
   "cell_type": "code",
   "execution_count": null,
   "id": "5af3ba05",
   "metadata": {},
   "outputs": [],
   "source": [
    "classes_x = np.argmax(predict_x,axis=1)"
   ]
  },
  {
   "cell_type": "code",
   "execution_count": 26,
   "id": "81fb57f1",
   "metadata": {},
   "outputs": [
    {
     "data": {
      "text/plain": [
       "array([7, 2, 1, ..., 4, 5, 6], dtype=int64)"
      ]
     },
     "execution_count": 26,
     "metadata": {},
     "output_type": "execute_result"
    }
   ],
   "source": [
    "classes_x "
   ]
  },
  {
   "cell_type": "code",
   "execution_count": 29,
   "id": "8d3976e6",
   "metadata": {},
   "outputs": [
    {
     "data": {
      "text/plain": [
       "0.9792"
      ]
     },
     "execution_count": 29,
     "metadata": {},
     "output_type": "execute_result"
    }
   ],
   "source": [
    "accuracy_score(y_test, classes_x)"
   ]
  },
  {
   "cell_type": "code",
   "execution_count": null,
   "id": "2d0f1851",
   "metadata": {},
   "outputs": [],
   "source": []
  }
 ],
 "metadata": {
  "kernelspec": {
   "display_name": "Python 3 (ipykernel)",
   "language": "python",
   "name": "python3"
  },
  "language_info": {
   "codemirror_mode": {
    "name": "ipython",
    "version": 3
   },
   "file_extension": ".py",
   "mimetype": "text/x-python",
   "name": "python",
   "nbconvert_exporter": "python",
   "pygments_lexer": "ipython3",
   "version": "3.9.12"
  }
 },
 "nbformat": 4,
 "nbformat_minor": 5
}
