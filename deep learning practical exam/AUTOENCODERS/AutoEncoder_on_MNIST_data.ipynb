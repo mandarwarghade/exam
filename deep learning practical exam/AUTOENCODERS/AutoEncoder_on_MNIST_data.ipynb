{
  "nbformat": 4,
  "nbformat_minor": 0,
  "metadata": {
    "colab": {
      "provenance": []
    },
    "kernelspec": {
      "name": "python3",
      "display_name": "Python 3"
    },
    "language_info": {
      "name": "python"
    }
  },
  "cells": [
    {
      "cell_type": "code",
      "execution_count": 3,
      "metadata": {
        "id": "VTHayEM7lCyy"
      },
      "outputs": [],
      "source": [
        "import numpy as np\n",
        "import matplotlib.pyplot as plt\n",
        "from random import randint\n",
        "from keras import backend as K\n",
        "from keras.layers import Input, Dense, Conv2D, MaxPooling2D, UpSampling2D\n",
        "from keras.models import Model\n",
        "from keras.callbacks import TensorBoard\n",
        "from keras.datasets import mnist"
      ]
    },
    {
      "cell_type": "markdown",
      "source": [
        "Defining a utility func to load the data"
      ],
      "metadata": {
        "id": "NojkbVEvl6CV"
      }
    },
    {
      "cell_type": "code",
      "source": [
        "def load_data():\n",
        "  input_image = Input(shape = (28,28,1))\n",
        "   # Loading the data and dividing the data into training and testing sets\n",
        "  (X_train, _), (X_test, _) = mnist.load_data()\n",
        "      \n",
        "  # Cleaning and reshaping the data as required by the model\n",
        "  X_train = X_train.astype('float32') / 255.\n",
        "  X_train = np.reshape(X_train, (len(X_train), 28, 28, 1))\n",
        "  X_test = X_test.astype('float32') / 255.\n",
        "  X_test = np.reshape(X_test, (len(X_test), 28, 28, 1))\n",
        "      \n",
        "  return X_train, X_test, input_image"
      ],
      "metadata": {
        "id": "WaRijTyFl4ed"
      },
      "execution_count": 6,
      "outputs": []
    },
    {
      "cell_type": "markdown",
      "source": [
        "Defining a utility function to build the Auto-encoder neural network"
      ],
      "metadata": {
        "id": "hpHTXmsGmsTF"
      }
    },
    {
      "cell_type": "code",
      "source": [
        "def build_network(input_image):\n",
        "      \n",
        "    # Building the encoder of the Auto-encoder\n",
        "    x = Conv2D(16, (3, 3), activation ='relu', padding ='same')(input_image)\n",
        "    x = MaxPooling2D((2, 2), padding ='same')(x)\n",
        "    x = Conv2D(8, (3, 3), activation ='relu', padding ='same')(x)\n",
        "    x = MaxPooling2D((2, 2), padding ='same')(x)\n",
        "    x = Conv2D(8, (3, 3), activation ='relu', padding ='same')(x)\n",
        "    encoded_layer = MaxPooling2D((2, 2), padding ='same')(x)\n",
        "      \n",
        "    # Building the decoder of the Auto-encoder\n",
        "    x = Conv2D(8, (3, 3), activation ='relu', padding ='same')(encoded_layer)\n",
        "    x = UpSampling2D((2, 2))(x)\n",
        "    x = Conv2D(8, (3, 3), activation ='relu', padding ='same')(x)\n",
        "    x = UpSampling2D((2, 2))(x)\n",
        "    x = Conv2D(16, (3, 3), activation ='relu')(x)\n",
        "    x = UpSampling2D((2, 2))(x)\n",
        "    decoded_layer = Conv2D(1, (3, 3), activation ='sigmoid', padding ='same')(x)\n",
        "      \n",
        "    return decoded_layer"
      ],
      "metadata": {
        "id": "nCiqt4aHmdf0"
      },
      "execution_count": 7,
      "outputs": []
    },
    {
      "cell_type": "markdown",
      "source": [
        "Defining a utility function to build and train the Auto-encoder network"
      ],
      "metadata": {
        "id": "FMFR59XBmzOw"
      }
    },
    {
      "cell_type": "code",
      "source": [
        "def build_auto_encoder_model(X_train, X_test, input_image, decoded_layer):\n",
        "      \n",
        "    # Defining the parameters of the Auto-encoder\n",
        "    autoencoder = Model(input_image, decoded_layer)\n",
        "    autoencoder.compile(optimizer ='adadelta', loss ='binary_crossentropy')\n",
        "      \n",
        "    # Training the Auto-encoder\n",
        "    autoencoder.fit(X_train, X_train,\n",
        "                epochs = 5,\n",
        "                batch_size = 256,\n",
        "                shuffle = True,\n",
        "                validation_data =(X_test, X_test),\n",
        "                callbacks =[TensorBoard(log_dir ='/tmp / autoencoder')])\n",
        "      \n",
        "    return autoencoder"
      ],
      "metadata": {
        "id": "1JgfHWL0mxUj"
      },
      "execution_count": 13,
      "outputs": []
    },
    {
      "cell_type": "markdown",
      "source": [
        "Defining a utility function to visualize the reconstruction"
      ],
      "metadata": {
        "id": "kgDmiOg2m8aj"
      }
    },
    {
      "cell_type": "code",
      "source": [
        "def visualize(model, X_test):\n",
        "      \n",
        "    # Reconstructing the encoded images\n",
        "    reconstructed_images = model.predict(X_test)\n",
        "      \n",
        "    plt.figure(figsize =(20, 4))\n",
        "    for i in range(1, 11):\n",
        "          \n",
        "        # Generating a random to get random results\n",
        "        rand_num = randint(0, 10001)\n",
        "      \n",
        "        # To display the original image\n",
        "        ax = plt.subplot(2, 10, i)\n",
        "        plt.imshow(X_test[rand_num].reshape(28, 28))\n",
        "        plt.gray()\n",
        "        ax.get_xaxis().set_visible(False)\n",
        "        ax.get_yaxis().set_visible(False)\n",
        "  \n",
        "        # To display the reconstructed image\n",
        "        ax = plt.subplot(2, 10, i + 10)\n",
        "        plt.imshow(reconstructed_images[rand_num].reshape(28, 28))\n",
        "        plt.gray()\n",
        "        ax.get_xaxis().set_visible(False)\n",
        "        ax.get_yaxis().set_visible(False)\n",
        "          \n",
        "    # Displaying the plot\n",
        "    plt.show()"
      ],
      "metadata": {
        "id": "ScGkH6evm63v"
      },
      "execution_count": 14,
      "outputs": []
    },
    {
      "cell_type": "markdown",
      "source": [
        "Calling the utility functions in the appropriate order"
      ],
      "metadata": {
        "id": "lhGoxeC1nI2K"
      }
    },
    {
      "cell_type": "code",
      "source": [
        "X_train, X_test, input_image = load_data()"
      ],
      "metadata": {
        "id": "sEW7gmG6nLiV"
      },
      "execution_count": 15,
      "outputs": []
    },
    {
      "cell_type": "code",
      "source": [
        "decoded_layer = build_network(input_image)"
      ],
      "metadata": {
        "id": "jLazK2jnnNdc"
      },
      "execution_count": 16,
      "outputs": []
    },
    {
      "cell_type": "code",
      "source": [
        "auto_encoder_model = build_auto_encoder_model(X_train,\n",
        "                                             X_test,\n",
        "                                             input_image,\n",
        "                                             decoded_layer)"
      ],
      "metadata": {
        "colab": {
          "base_uri": "https://localhost:8080/"
        },
        "id": "Y6xO553DnStO",
        "outputId": "7431b455-7d28-484f-8871-2fed2d6a6fd8"
      },
      "execution_count": 17,
      "outputs": [
        {
          "output_type": "stream",
          "name": "stdout",
          "text": [
            "Epoch 1/5\n",
            "235/235 [==============================] - 80s 338ms/step - loss: 0.6931 - val_loss: 0.6928\n",
            "Epoch 2/5\n",
            "235/235 [==============================] - 84s 359ms/step - loss: 0.6925 - val_loss: 0.6923\n",
            "Epoch 3/5\n",
            "235/235 [==============================] - 80s 341ms/step - loss: 0.6919 - val_loss: 0.6916\n",
            "Epoch 4/5\n",
            "235/235 [==============================] - 80s 339ms/step - loss: 0.6912 - val_loss: 0.6908\n",
            "Epoch 5/5\n",
            "235/235 [==============================] - 80s 338ms/step - loss: 0.6904 - val_loss: 0.6899\n"
          ]
        }
      ]
    },
    {
      "cell_type": "code",
      "source": [
        "visualize(auto_encoder_model, X_test)"
      ],
      "metadata": {
        "colab": {
          "base_uri": "https://localhost:8080/",
          "height": 265
        },
        "id": "RfGS1EWbnU2E",
        "outputId": "cd716b1d-6379-448d-c2a1-c006d2c84cb9"
      },
      "execution_count": 18,
      "outputs": [
        {
          "output_type": "stream",
          "name": "stdout",
          "text": [
            "313/313 [==============================] - 6s 20ms/step\n"
          ]
        },
        {
          "output_type": "display_data",
          "data": {
            "text/plain": [
              "<Figure size 1440x288 with 20 Axes>"
            ],
            "image/png": "[encoded data removed]"
          },
          "metadata": {
            "needs_background": "light"
          }
        }
      ]
    }
  ]
}