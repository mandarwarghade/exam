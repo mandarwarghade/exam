{
 "cells": [
  {
   "cell_type": "code",
   "execution_count": 1,
   "id": "2b72af79",
   "metadata": {},
   "outputs": [],
   "source": [
    "# Importing libraries\n",
    "import numpy as np\n",
    "import pandas as pd\n",
    "from sklearn.preprocessing import StandardScaler\n",
    "from tensorflow.keras.models import Sequential\n",
    "from tensorflow.keras.layers import LSTM\n",
    "from tensorflow.keras.layers import Dense, Dropout"
   ]
  },
  {
   "cell_type": "code",
   "execution_count": 2,
   "id": "74eaf210",
   "metadata": {},
   "outputs": [],
   "source": [
    "# loading data set\n",
    "stock = pd.read_csv('Nvidia.csv')"
   ]
  },
  {
   "cell_type": "code",
   "execution_count": 3,
   "id": "af8fdacd",
   "metadata": {},
   "outputs": [
    {
     "data": {
      "text/html": [
       "<div>\n",
       "<style scoped>\n",
       "    .dataframe tbody tr th:only-of-type {\n",
       "        vertical-align: middle;\n",
       "    }\n",
       "\n",
       "    .dataframe tbody tr th {\n",
       "        vertical-align: top;\n",
       "    }\n",
       "\n",
       "    .dataframe thead th {\n",
       "        text-align: right;\n",
       "    }\n",
       "</style>\n",
       "<table border=\"1\" class=\"dataframe\">\n",
       "  <thead>\n",
       "    <tr style=\"text-align: right;\">\n",
       "      <th></th>\n",
       "      <th>Date</th>\n",
       "      <th>Open</th>\n",
       "      <th>High</th>\n",
       "      <th>Low</th>\n",
       "      <th>Close</th>\n",
       "      <th>Volume</th>\n",
       "      <th>Dividends</th>\n",
       "      <th>Stock Splits</th>\n",
       "    </tr>\n",
       "  </thead>\n",
       "  <tbody>\n",
       "    <tr>\n",
       "      <th>0</th>\n",
       "      <td>2017-01-26</td>\n",
       "      <td>26.624082</td>\n",
       "      <td>27.129914</td>\n",
       "      <td>26.327984</td>\n",
       "      <td>27.055891</td>\n",
       "      <td>45880000</td>\n",
       "      <td>0.0</td>\n",
       "      <td>0.0</td>\n",
       "    </tr>\n",
       "    <tr>\n",
       "      <th>1</th>\n",
       "      <td>2017-01-27</td>\n",
       "      <td>27.124978</td>\n",
       "      <td>27.608603</td>\n",
       "      <td>26.858490</td>\n",
       "      <td>27.578993</td>\n",
       "      <td>47199600</td>\n",
       "      <td>0.0</td>\n",
       "      <td>0.0</td>\n",
       "    </tr>\n",
       "    <tr>\n",
       "      <th>2</th>\n",
       "      <td>2017-01-30</td>\n",
       "      <td>27.369262</td>\n",
       "      <td>27.391470</td>\n",
       "      <td>26.626552</td>\n",
       "      <td>27.147188</td>\n",
       "      <td>49600400</td>\n",
       "      <td>0.0</td>\n",
       "      <td>0.0</td>\n",
       "    </tr>\n",
       "    <tr>\n",
       "      <th>3</th>\n",
       "      <td>2017-01-31</td>\n",
       "      <td>26.883162</td>\n",
       "      <td>27.154586</td>\n",
       "      <td>26.698101</td>\n",
       "      <td>26.939915</td>\n",
       "      <td>36275600</td>\n",
       "      <td>0.0</td>\n",
       "      <td>0.0</td>\n",
       "    </tr>\n",
       "    <tr>\n",
       "      <th>4</th>\n",
       "      <td>2017-02-01</td>\n",
       "      <td>27.285365</td>\n",
       "      <td>28.158852</td>\n",
       "      <td>27.107706</td>\n",
       "      <td>28.116903</td>\n",
       "      <td>59000400</td>\n",
       "      <td>0.0</td>\n",
       "      <td>0.0</td>\n",
       "    </tr>\n",
       "  </tbody>\n",
       "</table>\n",
       "</div>"
      ],
      "text/plain": [
       "         Date       Open       High        Low      Close    Volume  \\\n",
       "0  2017-01-26  26.624082  27.129914  26.327984  27.055891  45880000   \n",
       "1  2017-01-27  27.124978  27.608603  26.858490  27.578993  47199600   \n",
       "2  2017-01-30  27.369262  27.391470  26.626552  27.147188  49600400   \n",
       "3  2017-01-31  26.883162  27.154586  26.698101  26.939915  36275600   \n",
       "4  2017-02-01  27.285365  28.158852  27.107706  28.116903  59000400   \n",
       "\n",
       "   Dividends  Stock Splits  \n",
       "0        0.0           0.0  \n",
       "1        0.0           0.0  \n",
       "2        0.0           0.0  \n",
       "3        0.0           0.0  \n",
       "4        0.0           0.0  "
      ]
     },
     "execution_count": 3,
     "metadata": {},
     "output_type": "execute_result"
    }
   ],
   "source": [
    "stock.head()"
   ]
  },
  {
   "cell_type": "code",
   "execution_count": 4,
   "id": "d53477e6",
   "metadata": {},
   "outputs": [
    {
     "name": "stdout",
     "output_type": "stream",
     "text": [
      "<class 'pandas.core.frame.DataFrame'>\n",
      "RangeIndex: 1259 entries, 0 to 1258\n",
      "Data columns (total 8 columns):\n",
      " #   Column        Non-Null Count  Dtype  \n",
      "---  ------        --------------  -----  \n",
      " 0   Date          1259 non-null   object \n",
      " 1   Open          1259 non-null   float64\n",
      " 2   High          1259 non-null   float64\n",
      " 3   Low           1259 non-null   float64\n",
      " 4   Close         1259 non-null   float64\n",
      " 5   Volume        1259 non-null   int64  \n",
      " 6   Dividends     1259 non-null   float64\n",
      " 7   Stock Splits  1259 non-null   float64\n",
      "dtypes: float64(6), int64(1), object(1)\n",
      "memory usage: 78.8+ KB\n"
     ]
    }
   ],
   "source": [
    "#checking datatype\n",
    "stock.info()"
   ]
  },
  {
   "cell_type": "code",
   "execution_count": 5,
   "id": "8e9f9e84",
   "metadata": {},
   "outputs": [
    {
     "data": {
      "text/plain": [
       "1254   2022-01-19\n",
       "1255   2022-01-20\n",
       "1256   2022-01-21\n",
       "1257   2022-01-24\n",
       "1258   2022-01-25\n",
       "Name: Date, dtype: datetime64[ns]"
      ]
     },
     "execution_count": 5,
     "metadata": {},
     "output_type": "execute_result"
    }
   ],
   "source": [
    "# Changing dtype of date to datetime\n",
    "dates = pd.to_datetime(stock['Date'])\n",
    "dates.tail()"
   ]
  },
  {
   "cell_type": "code",
   "execution_count": 6,
   "id": "c1a191fe",
   "metadata": {},
   "outputs": [
    {
     "data": {
      "text/plain": [
       "Date            0\n",
       "Open            0\n",
       "High            0\n",
       "Low             0\n",
       "Close           0\n",
       "Volume          0\n",
       "Dividends       0\n",
       "Stock Splits    0\n",
       "dtype: int64"
      ]
     },
     "execution_count": 6,
     "metadata": {},
     "output_type": "execute_result"
    }
   ],
   "source": [
    "# checking for null values\n",
    "stock.isnull().sum()"
   ]
  },
  {
   "cell_type": "code",
   "execution_count": 8,
   "id": "7ac62a7f",
   "metadata": {},
   "outputs": [
    {
     "data": {
      "text/html": [
       "<div>\n",
       "<style scoped>\n",
       "    .dataframe tbody tr th:only-of-type {\n",
       "        vertical-align: middle;\n",
       "    }\n",
       "\n",
       "    .dataframe tbody tr th {\n",
       "        vertical-align: top;\n",
       "    }\n",
       "\n",
       "    .dataframe thead th {\n",
       "        text-align: right;\n",
       "    }\n",
       "</style>\n",
       "<table border=\"1\" class=\"dataframe\">\n",
       "  <thead>\n",
       "    <tr style=\"text-align: right;\">\n",
       "      <th></th>\n",
       "      <th>Open</th>\n",
       "      <th>High</th>\n",
       "      <th>Low</th>\n",
       "      <th>Close</th>\n",
       "    </tr>\n",
       "  </thead>\n",
       "  <tbody>\n",
       "    <tr>\n",
       "      <th>0</th>\n",
       "      <td>26.624082</td>\n",
       "      <td>27.129914</td>\n",
       "      <td>26.327984</td>\n",
       "      <td>27.055891</td>\n",
       "    </tr>\n",
       "    <tr>\n",
       "      <th>1</th>\n",
       "      <td>27.124978</td>\n",
       "      <td>27.608603</td>\n",
       "      <td>26.858490</td>\n",
       "      <td>27.578993</td>\n",
       "    </tr>\n",
       "    <tr>\n",
       "      <th>2</th>\n",
       "      <td>27.369262</td>\n",
       "      <td>27.391470</td>\n",
       "      <td>26.626552</td>\n",
       "      <td>27.147188</td>\n",
       "    </tr>\n",
       "    <tr>\n",
       "      <th>3</th>\n",
       "      <td>26.883162</td>\n",
       "      <td>27.154586</td>\n",
       "      <td>26.698101</td>\n",
       "      <td>26.939915</td>\n",
       "    </tr>\n",
       "    <tr>\n",
       "      <th>4</th>\n",
       "      <td>27.285365</td>\n",
       "      <td>28.158852</td>\n",
       "      <td>27.107706</td>\n",
       "      <td>28.116903</td>\n",
       "    </tr>\n",
       "  </tbody>\n",
       "</table>\n",
       "</div>"
      ],
      "text/plain": [
       "        Open       High        Low      Close\n",
       "0  26.624082  27.129914  26.327984  27.055891\n",
       "1  27.124978  27.608603  26.858490  27.578993\n",
       "2  27.369262  27.391470  26.626552  27.147188\n",
       "3  26.883162  27.154586  26.698101  26.939915\n",
       "4  27.285365  28.158852  27.107706  28.116903"
      ]
     },
     "execution_count": 8,
     "metadata": {},
     "output_type": "execute_result"
    }
   ],
   "source": [
    "#creating training df\n",
    "training_df = stock.drop(['Date','Volume','Dividends','Stock Splits'],axis = 1)\n",
    "training_df.head()"
   ]
  },
  {
   "cell_type": "code",
   "execution_count": 9,
   "id": "25eeb7a9",
   "metadata": {},
   "outputs": [
    {
     "data": {
      "text/plain": [
       "(1259, 4)"
      ]
     },
     "execution_count": 9,
     "metadata": {},
     "output_type": "execute_result"
    }
   ],
   "source": [
    "training_df.shape"
   ]
  },
  {
   "cell_type": "code",
   "execution_count": 10,
   "id": "773617ea",
   "metadata": {},
   "outputs": [],
   "source": [
    "#Scaling\n",
    "scaler = StandardScaler()\n",
    "scaler = scaler.fit(training_df)\n",
    "training_df_scaled = scaler.transform(training_df)"
   ]
  },
  {
   "cell_type": "code",
   "execution_count": 11,
   "id": "1c9ecb59",
   "metadata": {},
   "outputs": [
    {
     "data": {
      "text/plain": [
       "array([[-0.91860186, -0.91561969, -0.91989398, -0.91375856],\n",
       "       [-0.91128933, -0.90876181, -0.91196646, -0.90610606],\n",
       "       [-0.90772306, -0.91187255, -0.91543238, -0.91242296],\n",
       "       ...,\n",
       "       [ 2.12447916,  2.25194651,  2.16294428,  2.10983914],\n",
       "       [ 1.95265005,  2.04521679,  1.80804029,  2.1095465 ],\n",
       "       [ 1.98418373,  1.98261031,  1.97421   ,  1.95623384]])"
      ]
     },
     "execution_count": 11,
     "metadata": {},
     "output_type": "execute_result"
    }
   ],
   "source": [
    "training_df_scaled"
   ]
  },
  {
   "cell_type": "code",
   "execution_count": 12,
   "id": "e6da5669",
   "metadata": {},
   "outputs": [
    {
     "data": {
      "text/plain": [
       "(1259, 4)"
      ]
     },
     "execution_count": 12,
     "metadata": {},
     "output_type": "execute_result"
    }
   ],
   "source": [
    "training_df_scaled.shape"
   ]
  },
  {
   "cell_type": "code",
   "execution_count": 14,
   "id": "b42caeaa",
   "metadata": {},
   "outputs": [
    {
     "data": {
      "text/plain": [
       "1259"
      ]
     },
     "execution_count": 14,
     "metadata": {},
     "output_type": "execute_result"
    }
   ],
   "source": [
    "len(training_df_scaled)"
   ]
  },
  {
   "cell_type": "code",
   "execution_count": 15,
   "id": "03d53094",
   "metadata": {},
   "outputs": [
    {
     "data": {
      "text/plain": [
       "array([[-0.91860186, -0.91561969, -0.91989398, -0.91375856],\n",
       "       [-0.91128933, -0.90876181, -0.91196646, -0.90610606],\n",
       "       [-0.90772306, -0.91187255, -0.91543238, -0.91242296],\n",
       "       ...,\n",
       "       [ 2.12447916,  2.25194651,  2.16294428,  2.10983914],\n",
       "       [ 1.95265005,  2.04521679,  1.80804029,  2.1095465 ],\n",
       "       [ 1.98418373,  1.98261031,  1.97421   ,  1.95623384]])"
      ]
     },
     "execution_count": 15,
     "metadata": {},
     "output_type": "execute_result"
    }
   ],
   "source": [
    "training_df_scaled"
   ]
  },
  {
   "cell_type": "code",
   "execution_count": 16,
   "id": "d3315a6e",
   "metadata": {},
   "outputs": [],
   "source": [
    "#Splitting dataset\n",
    "n_future = 1\n",
    "n_past = 14"
   ]
  },
  {
   "cell_type": "code",
   "execution_count": 17,
   "id": "09c80972",
   "metadata": {},
   "outputs": [],
   "source": [
    "X_train = []\n",
    "y_train = []"
   ]
  },
  {
   "cell_type": "code",
   "execution_count": 18,
   "id": "8defb51a",
   "metadata": {},
   "outputs": [],
   "source": [
    "for i in range(n_past, len(training_df_scaled) - n_future +1):\n",
    "    X_train.append(training_df_scaled[i - n_past:i, 0:training_df_scaled.shape[1]])\n",
    "    y_train.append(training_df_scaled[i + n_future - 1:i + n_future, 3])\n",
    "\n",
    "X_train, y_train  = np.array(X_train), np.array(y_train)"
   ]
  },
  {
   "cell_type": "code",
   "execution_count": 20,
   "id": "9f208355",
   "metadata": {},
   "outputs": [
    {
     "data": {
      "text/plain": [
       "(1245, 14, 4)"
      ]
     },
     "execution_count": 20,
     "metadata": {},
     "output_type": "execute_result"
    }
   ],
   "source": [
    "X_train.shape"
   ]
  },
  {
   "cell_type": "code",
   "execution_count": 21,
   "id": "3b4c1da3",
   "metadata": {},
   "outputs": [
    {
     "data": {
      "text/plain": [
       "(1245, 14, 4)"
      ]
     },
     "execution_count": 21,
     "metadata": {},
     "output_type": "execute_result"
    }
   ],
   "source": [
    "X_train.shape"
   ]
  },
  {
   "cell_type": "code",
   "execution_count": 22,
   "id": "1f6bc2e8",
   "metadata": {},
   "outputs": [
    {
     "data": {
      "text/plain": [
       "(1245, 1)"
      ]
     },
     "execution_count": 22,
     "metadata": {},
     "output_type": "execute_result"
    }
   ],
   "source": [
    "y_train.shape"
   ]
  },
  {
   "cell_type": "code",
   "execution_count": 29,
   "id": "af9ed7a3",
   "metadata": {},
   "outputs": [
    {
     "name": "stdout",
     "output_type": "stream",
     "text": [
      "Model: \"sequential_2\"\n",
      "_________________________________________________________________\n",
      " Layer (type)                Output Shape              Param #   \n",
      "=================================================================\n",
      " lstm_3 (LSTM)               (None, 64)                17664     \n",
      "                                                                 \n",
      " dropout_2 (Dropout)         (None, 64)                0         \n",
      "                                                                 \n",
      " dense_2 (Dense)             (None, 1)                 65        \n",
      "                                                                 \n",
      "=================================================================\n",
      "Total params: 17,729\n",
      "Trainable params: 17,729\n",
      "Non-trainable params: 0\n",
      "_________________________________________________________________\n"
     ]
    }
   ],
   "source": [
    "#defining a model\n",
    "model = Sequential()\n",
    "model.add(LSTM(64, activation='relu', input_shape=(X_train.shape[1], X_train.shape[2]), return_sequences=False))\n",
    "#model.add(LSTM(32, activation='relu', return_sequences=False))\n",
    "model.add(Dropout(0.2))\n",
    "model.add(Dense(y_train.shape[1]))\n",
    "\n",
    "model.compile(optimizer='adam', loss='mse',metrics = ['Accuracy'])\n",
    "model.summary()"
   ]
  },
  {
   "cell_type": "code",
   "execution_count": 30,
   "id": "014241a2",
   "metadata": {},
   "outputs": [
    {
     "name": "stdout",
     "output_type": "stream",
     "text": [
      "Epoch 1/5\n",
      "70/70 [==============================] - 3s 15ms/step - loss: 0.0431 - Accuracy: 0.0000e+00 - val_loss: 0.5199 - val_Accuracy: 0.0000e+00\n",
      "Epoch 2/5\n",
      "70/70 [==============================] - 1s 9ms/step - loss: 0.0119 - Accuracy: 0.0000e+00 - val_loss: 0.2391 - val_Accuracy: 0.0000e+00\n",
      "Epoch 3/5\n",
      "70/70 [==============================] - 1s 9ms/step - loss: 0.0106 - Accuracy: 0.0000e+00 - val_loss: 0.2976 - val_Accuracy: 0.0000e+00\n",
      "Epoch 4/5\n",
      "70/70 [==============================] - 1s 13ms/step - loss: 0.0104 - Accuracy: 0.0000e+00 - val_loss: 0.0547 - val_Accuracy: 0.0000e+00\n",
      "Epoch 5/5\n",
      "70/70 [==============================] - 1s 9ms/step - loss: 0.0107 - Accuracy: 0.0000e+00 - val_loss: 0.0427 - val_Accuracy: 0.0000e+00\n"
     ]
    }
   ],
   "source": [
    "# fit the model\n",
    "history = model.fit(X_train, y_train, epochs=5, batch_size=16, validation_split=0.1, verbose=1)"
   ]
  },
  {
   "cell_type": "code",
   "execution_count": 28,
   "id": "9c5acb58",
   "metadata": {},
   "outputs": [
    {
     "data": {
      "text/plain": [
       "<matplotlib.legend.Legend at 0x253752735b0>"
      ]
     },
     "execution_count": 28,
     "metadata": {},
     "output_type": "execute_result"
    },
    {
     "data": {
      "image/png": "[encoded data removed]",
      "text/plain": [
       "<Figure size 640x480 with 1 Axes>"
      ]
     },
     "metadata": {},
     "output_type": "display_data"
    }
   ],
   "source": [
    "#Plotting lot\n",
    "import matplotlib.pyplot as plt\n",
    "plt.plot(history.history['loss'], label='Training loss')\n",
    "plt.plot(history.history['val_loss'], label='Validation loss')\n",
    "plt.legend()"
   ]
  }
 ],
 "metadata": {
  "kernelspec": {
   "display_name": "Python 3 (ipykernel)",
   "language": "python",
   "name": "python3"
  },
  "language_info": {
   "codemirror_mode": {
    "name": "ipython",
    "version": 3
   },
   "file_extension": ".py",
   "mimetype": "text/x-python",
   "name": "python",
   "nbconvert_exporter": "python",
   "pygments_lexer": "ipython3",
   "version": "3.9.13"
  }
 },
 "nbformat": 4,
 "nbformat_minor": 5
}
